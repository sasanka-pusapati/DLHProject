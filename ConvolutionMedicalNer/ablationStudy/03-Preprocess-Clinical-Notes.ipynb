{
 "cells": [
  {
   "cell_type": "code",
   "execution_count": 2,
   "metadata": {},
   "outputs": [],
   "source": [
    "import pandas as pd\n",
    "import os\n",
    "import numpy as np\n",
    "import re\n",
    "import preprocess"
   ]
  },
  {
   "cell_type": "code",
   "execution_count": 3,
   "metadata": {},
   "outputs": [],
   "source": [
    "PREPROCESS = \"data/\""
   ]
  },
  {
   "cell_type": "code",
   "execution_count": 4,
   "metadata": {},
   "outputs": [
    {
     "data": {
      "text/plain": "(125698, 20)"
     },
     "execution_count": 4,
     "metadata": {},
     "output_type": "execute_result"
    }
   ],
   "source": [
    "clinical_notes = pd.read_pickle(os.path.join(PREPROCESS, \"sub_notes.p\"))\n",
    "clinical_notes.shape"
   ]
  },
  {
   "cell_type": "code",
   "execution_count": 5,
   "metadata": {},
   "outputs": [],
   "source": [
    "sub_notes = clinical_notes[clinical_notes.SUBJECT_ID.notnull()]\n",
    "sub_notes = sub_notes[sub_notes.CHARTTIME.notnull()]\n",
    "sub_notes = sub_notes[sub_notes.TEXT.notnull()]"
   ]
  },
  {
   "cell_type": "code",
   "execution_count": 6,
   "metadata": {},
   "outputs": [
    {
     "data": {
      "text/plain": "(125698, 20)"
     },
     "execution_count": 6,
     "metadata": {},
     "output_type": "execute_result"
    }
   ],
   "source": [
    "sub_notes.shape"
   ]
  },
  {
   "cell_type": "code",
   "execution_count": 7,
   "metadata": {},
   "outputs": [],
   "source": [
    "sub_notes = sub_notes[['SUBJECT_ID', 'HADM_ID_y', 'CHARTTIME', 'TEXT']]"
   ]
  },
  {
   "cell_type": "code",
   "execution_count": 8,
   "metadata": {},
   "outputs": [],
   "source": [
    "sub_notes['preprocessed_text'] = None"
   ]
  },
  {
   "cell_type": "code",
   "execution_count": 9,
   "metadata": {},
   "outputs": [
    {
     "name": "stderr",
     "output_type": "stream",
     "text": [
      "[nltk_data] Downloading package punkt to\n",
      "[nltk_data]     /Users/sasankapusapati/nltk_data...\n",
      "[nltk_data]   Package punkt is already up-to-date!\n"
     ]
    }
   ],
   "source": [
    "import nltk\n",
    "nltk.download('punkt')\n",
    "\n",
    "for each_note in sub_notes.itertuples():\n",
    "    text = each_note.TEXT\n",
    "    sub_notes.at[each_note.Index, 'preprocessed_text'] = preprocess.getSentences(text)"
   ]
  },
  {
   "cell_type": "markdown",
   "metadata": {},
   "source": [
    "### Save notes"
   ]
  },
  {
   "cell_type": "code",
   "execution_count": 10,
   "metadata": {},
   "outputs": [
    {
     "name": "stdout",
     "output_type": "stream",
     "text": [
      "        SUBJECT_ID  HADM_ID_y           CHARTTIME  \\\n",
      "16           27866     109679 2143-04-09 03:22:00   \n",
      "17           27866     109679 2143-04-09 03:22:00   \n",
      "23           29075     179159 2116-02-06 00:25:00   \n",
      "24           29075     179159 2116-02-06 00:25:00   \n",
      "25           29075     179159 2116-02-06 03:50:00   \n",
      "...            ...        ...                 ...   \n",
      "745618       52263     179771 2108-08-07 06:14:00   \n",
      "745619       88106     100746 2165-03-07 07:08:00   \n",
      "745621       97927     164455 2130-02-07 11:33:00   \n",
      "745916       81223     137189 2159-09-11 07:51:00   \n",
      "745938       66555     124440 2111-03-20 06:51:00   \n",
      "\n",
      "                                                     TEXT  \\\n",
      "16      Ms. [**Known lastname 1170**] is an 83 yo F w/...   \n",
      "17      Ms. [**Known lastname 1170**] is an 83 yo F w/...   \n",
      "23      Chief Complaint:  GI bleeding\\n   HPI:\\n   67M...   \n",
      "24      Chief Complaint:  GI bleeding\\n   HPI:\\n   67M...   \n",
      "25      Chief Complaint:  GI Bleed\\n   I saw and exami...   \n",
      "...                                                   ...   \n",
      "745618  C/C: delta MS, fever, hypotension\\n   Pt  is a...   \n",
      "745619  Chief Complaint:  Hematemesis and fevers\\n   H...   \n",
      "745621  Chief Complaint:  severe sepsis\\n   HPI:\\n   H...   \n",
      "745916  Chief Complaint:\\n   24 Hour Events:\\n   Aller...   \n",
      "745938  TITLE:\\n   Chief Complaint:\\n   Mr. [**Known l...   \n",
      "\n",
      "                                        preprocessed_text  \n",
      "16      [ms. is an 83 yo f w/pmhx sx for cll , hyperte...  \n",
      "17      [ms. is an 83 yo f w/pmhx sx for cll , hyperte...  \n",
      "23      [chief complaint : gi bleeding hpi : 67m w/ h/...  \n",
      "24      [chief complaint : gi bleeding hpi : 67m w/ h/...  \n",
      "25      [chief complaint : gi bleed i saw and examined...  \n",
      "...                                                   ...  \n",
      "745618  [c/c : delta ms , fever , hypotension pt is a ...  \n",
      "745619  [chief complaint : hematemesis and fevers hpi ...  \n",
      "745621  [chief complaint : severe sepsis hpi : history...  \n",
      "745916  [chief complaint : 24 hour events : allergies ...  \n",
      "745938  [title : chief complaint : mr. is a pleasant 7...  \n",
      "\n",
      "[125698 rows x 5 columns]\n"
     ]
    }
   ],
   "source": [
    "print(sub_notes)\n",
    "pd.to_pickle(sub_notes, os.path.join(PREPROCESS, \"preprocessed_notes.p\"))"
   ]
  },
  {
   "cell_type": "markdown",
   "metadata": {},
   "source": [
    "### Additional preprocessing"
   ]
  },
  {
   "cell_type": "code",
   "execution_count": 11,
   "metadata": {},
   "outputs": [],
   "source": [
    "# sub_notes = pd.read_pickle(os.path.join(PREPROCESS, \"preprocessed_notes.p\"))\n",
    "\n",
    "# def preprocess1(x):\n",
    "#     y=re.sub('\\\\[(.*?)\\\\]','',x) #remove de-identified brackets\n",
    "#     y=re.sub('[0-9]+\\.','',y) #remove 1.2. since the segmenter segments based on this\n",
    "#     y=re.sub('dr\\.','doctor',y)\n",
    "#     y=re.sub('m\\.d\\.','md',y)\n",
    "#     y=re.sub('admission date:','',y)\n",
    "#     y=re.sub('discharge date:','',y)\n",
    "#     y=re.sub('--|__|==','',y)\n",
    "#     return y\n",
    "\n",
    "# def preprocessing(df_less_n): \n",
    "#     df_less_n['preprocessed_text_v2']=df_less_n['preprocessed_text'].fillna(' ')\n",
    "#     df_less_n['preprocessed_text_v2']=df_less_n['preprocessed_text_v2'].str.replace('\\n',' ')\n",
    "#     #df_less_n['preprocessed_text_v2']=df_less_n['preprocessed_text_v2'].str.replace('\\r',' ')\n",
    "#     #df_less_n['preprocessed_text_v2']=df_less_n['preprocessed_text_v2'].apply(str.strip)\n",
    "#     #df_less_n['preprocessed_text_v2']=df_less_n['preprocessed_text_v2'].str.lower()\n",
    "\n",
    "#     df_less_n['preprocessed_text_v2']=df_less_n['preprocessed_text_v2'].apply(lambda x: preprocess1(x))\n",
    "    \n",
    "# sub_notes = preprocessing(sub_notes)"
   ]
  },
  {
   "cell_type": "code",
   "execution_count": null,
   "metadata": {},
   "outputs": [],
   "source": []
  }
 ],
 "metadata": {
  "kernelspec": {
   "display_name": "Python 3 (ipykernel)",
   "language": "python",
   "name": "python3"
  },
  "language_info": {
   "codemirror_mode": {
    "name": "ipython",
    "version": 3
   },
   "file_extension": ".py",
   "mimetype": "text/x-python",
   "name": "python",
   "nbconvert_exporter": "python",
   "pygments_lexer": "ipython3",
   "version": "3.8.16"
  }
 },
 "nbformat": 4,
 "nbformat_minor": 2
}
